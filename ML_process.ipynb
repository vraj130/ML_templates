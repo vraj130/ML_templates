{
 "cells": [
  {
   "cell_type": "code",
   "execution_count": null,
   "id": "e2155fd6",
   "metadata": {},
   "outputs": [],
   "source": [
    "## Here we import all the necessay libraries\n",
    "#to make sure we dont miss out on any function we also import some extra \n",
    "import pandas as pd\n",
    "import numpy as np\n",
    "import missingno as mno\n",
    "import seaborn as sns\n",
    "import matplotlib.pyplot as plt\n",
    "from sklearn.preprocessing import OneHotEncoder, StandardScaler, MinMaxScaler\n",
    "from sklearn.preprocessing import LabelBinarizer, Normalizer\n",
    "from sklearn import linear_model\n",
    "from sklearn.metrics import mean_absolute_error, mean_squared_log_error, mean_squared_error\n",
    "from sklearn.ensemble import RandomForestRegressor\n",
    "from sklearn.tree import DecisionTreeRegressor\n",
    "from sklearn.linear_model import LinearRegression\n",
    "from sklearn.model_selection import train_test_split\n",
    "from xgboost import XGBRegressor\n",
    "import warnings"
   ]
  },
  {
   "cell_type": "code",
   "execution_count": null,
   "id": "9bb41abf",
   "metadata": {},
   "outputs": [],
   "source": [
    "## First read the train data file and see its head\n",
    "train = pd.read_csv(\"trian_file_name.csv\")\n",
    "train.head()"
   ]
  },
  {
   "cell_type": "code",
   "execution_count": null,
   "id": "80313102",
   "metadata": {},
   "outputs": [],
   "source": [
    "#we check shape i.e (number of trainign samples and the no. of features )\n",
    "train.shape"
   ]
  },
  {
   "cell_type": "code",
   "execution_count": null,
   "id": "0528e317",
   "metadata": {},
   "outputs": [],
   "source": [
    "##We check the columns in the data\n",
    "train.columns"
   ]
  },
  {
   "cell_type": "code",
   "execution_count": null,
   "id": "079a10d8",
   "metadata": {},
   "outputs": [],
   "source": [
    "##WE see some type and the no. of non numm values in the data \n",
    "train.info()\n"
   ]
  },
  {
   "cell_type": "code",
   "execution_count": null,
   "id": "2b99678f",
   "metadata": {},
   "outputs": [],
   "source": [
    "#Next is we check the number of null values for each feature\n",
    "train.isnull().sum()"
   ]
  },
  {
   "cell_type": "code",
   "execution_count": null,
   "id": "8f04e349",
   "metadata": {},
   "outputs": [],
   "source": [
    "#if the above shows null for numeric we if first replace it with mean or median values\n",
    "train.loc[train['column_name'].isna(), 'column_name'] = train['column_name'].median()\n",
    "\n",
    "#If if null exist  for categorical values we should just drop it as it cannot be imputed\n",
    "train = train.dropna()\n"
   ]
  },
  {
   "cell_type": "code",
   "execution_count": null,
   "id": "3d594498",
   "metadata": {},
   "outputs": [],
   "source": [
    "##After handling the null we check if all the nul lvalues are handled in the data\n",
    "train.isnull().sum()"
   ]
  },
  {
   "cell_type": "code",
   "execution_count": null,
   "id": "36a0db9b",
   "metadata": {},
   "outputs": [],
   "source": [
    "#we check if a certain column does not contribute to the model and drop it\n",
    "train.drop[columsn=['column_name'], axis=1, inplace=True]"
   ]
  },
  {
   "cell_type": "markdown",
   "id": "0d402004",
   "metadata": {},
   "source": [
    "We now continue with the Data Visualizatinon part\n"
   ]
  },
  {
   "cell_type": "code",
   "execution_count": null,
   "id": "bf4c3b5d",
   "metadata": {},
   "outputs": [],
   "source": []
  },
  {
   "cell_type": "code",
   "execution_count": null,
   "id": "bba9b9cd",
   "metadata": {},
   "outputs": [],
   "source": []
  },
  {
   "cell_type": "code",
   "execution_count": null,
   "id": "ddceb395",
   "metadata": {},
   "outputs": [],
   "source": []
  },
  {
   "cell_type": "code",
   "execution_count": null,
   "id": "ecf10d33",
   "metadata": {},
   "outputs": [],
   "source": []
  },
  {
   "cell_type": "code",
   "execution_count": null,
   "id": "659b212f",
   "metadata": {},
   "outputs": [],
   "source": []
  },
  {
   "cell_type": "code",
   "execution_count": null,
   "id": "5de30925",
   "metadata": {},
   "outputs": [],
   "source": []
  },
  {
   "cell_type": "code",
   "execution_count": null,
   "id": "ededdcc0",
   "metadata": {},
   "outputs": [],
   "source": []
  },
  {
   "cell_type": "code",
   "execution_count": null,
   "id": "6a913d39",
   "metadata": {},
   "outputs": [],
   "source": []
  }
 ],
 "metadata": {
  "kernelspec": {
   "display_name": "Python 3 (ipykernel)",
   "language": "python",
   "name": "python3"
  },
  "language_info": {
   "codemirror_mode": {
    "name": "ipython",
    "version": 3
   },
   "file_extension": ".py",
   "mimetype": "text/x-python",
   "name": "python",
   "nbconvert_exporter": "python",
   "pygments_lexer": "ipython3",
   "version": "3.9.7"
  }
 },
 "nbformat": 4,
 "nbformat_minor": 5
}
