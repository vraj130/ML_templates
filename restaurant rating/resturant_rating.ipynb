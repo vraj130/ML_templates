{
 "cells": [
  {
   "cell_type": "markdown",
   "metadata": {
    "colab_type": "text",
    "id": "x_BkOtqBIKQz"
   },
   "source": [
    "# Data Science Challenge"
   ]
  },
  {
   "cell_type": "code",
   "execution_count": 1,
   "metadata": {
    "colab": {},
    "colab_type": "code",
    "id": "U_VthdACIKQ6"
   },
   "outputs": [],
   "source": [
    "# If you'd like to install packages that aren't installed by default, uncomment the last two lines of this cell and replace <package list> with a list of your packages.\n",
    "# This will ensure your notebook has all the dependencies and works everywhere\n",
    "\n",
    "#import sys\n",
    "#!{sys.executable} -m pip install <package list>"
   ]
  },
  {
   "cell_type": "code",
   "execution_count": 1,
   "metadata": {
    "colab": {},
    "colab_type": "code",
    "id": "VzGFUCCVIKRL"
   },
   "outputs": [],
   "source": [
    "#Libraries\n",
    "import pandas as pd\n",
    "import numpy as np\n",
    "import matplotlib.pyplot as plt\n",
    "from sklearn.linear_model import LogisticRegression\n",
    "from sklearn.model_selection import train_test_split, RandomizedSearchCV\n",
    "from xgboost import XGBClassifier\n",
    "from sklearn.metrics import accuracy_score\n",
    "import seaborn as sns\n",
    "\n",
    "pd.set_option(\"display.max_columns\", 101)"
   ]
  },
  {
   "cell_type": "markdown",
   "metadata": {
    "colab_type": "text",
    "id": "TZ23KNY8IKRT"
   },
   "source": [
    "## Data Description"
   ]
  },
  {
   "cell_type": "markdown",
   "metadata": {
    "colab_type": "text",
    "id": "jWSkqquEIKRW"
   },
   "source": [
    "Column | Description\n",
    ":---|:---\n",
    "`id` | The unique ID assigned to every restaurant.\n",
    "`name` | The name of the restaurant.\n",
    "`location` | The location of the restaurant.\n",
    "`phone` | The phone number of the restaurant.\n",
    "`table_bookings` | Indicates if the restaurant takes online reservations.\n",
    "`online_ordering` | Indicates if the restaurant takes online orders.\n",
    "`restaurant_type` | The type of restaurant. Values are Casual Dining, Cafe, Quick Bites, etc.\n",
    "`restaurant_operation` | The primary operation of the restaurant. For example, ‘Delivery’.\n",
    "`primary_cuisine` | The name of the primary cuisine offered by the restaurant. Values are American, Mexican, etc.\n",
    "`popular_dishes` | The number of popular dishes offered by the restaurant.\n",
    "`cuisines_offered` | The number of cuisines offered by the restaurant.\n",
    "`rating` | The rating of the restaurant.\n",
    "`votes` | The number of customer votes received by the restaurant\n",
    "`dining_cost` | It indicates if the classification of dining costs at the restaurant. Values are 0 (Budget), 1 (Expensive)."
   ]
  },
  {
   "cell_type": "markdown",
   "metadata": {
    "colab_type": "text",
    "id": "BWQqx7cSIKRX"
   },
   "source": [
    "## Data Wrangling & Visualization"
   ]
  },
  {
   "cell_type": "code",
   "execution_count": 2,
   "metadata": {
    "colab": {},
    "colab_type": "code",
    "id": "SsjL7tf7IKRc"
   },
   "outputs": [],
   "source": [
    "# Dataset is already loaded below\n",
    "data = pd.read_csv(\"train.csv\")"
   ]
  },
  {
   "cell_type": "code",
   "execution_count": 3,
   "metadata": {
    "colab": {},
    "colab_type": "code",
    "id": "kzuHtZEkIKRh",
    "outputId": "9d14832c-2eda-48eb-df41-548113a94a73"
   },
   "outputs": [
    {
     "data": {
      "text/html": [
       "<div>\n",
       "<style scoped>\n",
       "    .dataframe tbody tr th:only-of-type {\n",
       "        vertical-align: middle;\n",
       "    }\n",
       "\n",
       "    .dataframe tbody tr th {\n",
       "        vertical-align: top;\n",
       "    }\n",
       "\n",
       "    .dataframe thead th {\n",
       "        text-align: right;\n",
       "    }\n",
       "</style>\n",
       "<table border=\"1\" class=\"dataframe\">\n",
       "  <thead>\n",
       "    <tr style=\"text-align: right;\">\n",
       "      <th></th>\n",
       "      <th>id</th>\n",
       "      <th>name</th>\n",
       "      <th>table_bookings</th>\n",
       "      <th>online_ordering</th>\n",
       "      <th>location</th>\n",
       "      <th>rating</th>\n",
       "      <th>votes</th>\n",
       "      <th>phone</th>\n",
       "      <th>restaurant_type</th>\n",
       "      <th>restaurant_operation</th>\n",
       "      <th>popular_dishes</th>\n",
       "      <th>cuisines_offered</th>\n",
       "      <th>primary_cuisine</th>\n",
       "      <th>dining_cost</th>\n",
       "    </tr>\n",
       "  </thead>\n",
       "  <tbody>\n",
       "    <tr>\n",
       "      <th>0</th>\n",
       "      <td>19340</td>\n",
       "      <td>Plan B</td>\n",
       "      <td>No</td>\n",
       "      <td>No</td>\n",
       "      <td>Greenwich</td>\n",
       "      <td>4.2/5</td>\n",
       "      <td>1651.0</td>\n",
       "      <td>8041609100</td>\n",
       "      <td>Casual Dining</td>\n",
       "      <td>Pubs and bars</td>\n",
       "      <td>7.0</td>\n",
       "      <td>4.0</td>\n",
       "      <td>American</td>\n",
       "      <td>1.0</td>\n",
       "    </tr>\n",
       "    <tr>\n",
       "      <th>1</th>\n",
       "      <td>31103</td>\n",
       "      <td>Hunan</td>\n",
       "      <td>No</td>\n",
       "      <td>Yes</td>\n",
       "      <td>Tribeca</td>\n",
       "      <td>4.3 /5</td>\n",
       "      <td>2248.0</td>\n",
       "      <td>080 25520154</td>\n",
       "      <td>Casual Dining</td>\n",
       "      <td>Dine-out</td>\n",
       "      <td>7.0</td>\n",
       "      <td>3.0</td>\n",
       "      <td>Chinese</td>\n",
       "      <td>1.0</td>\n",
       "    </tr>\n",
       "    <tr>\n",
       "      <th>2</th>\n",
       "      <td>17563</td>\n",
       "      <td>Lavonne</td>\n",
       "      <td>No</td>\n",
       "      <td>No</td>\n",
       "      <td>Greenwich</td>\n",
       "      <td>4.4/5</td>\n",
       "      <td>1095.0</td>\n",
       "      <td>9740954505</td>\n",
       "      <td>Cafe</td>\n",
       "      <td>Cafes</td>\n",
       "      <td>7.0</td>\n",
       "      <td>2.0</td>\n",
       "      <td>Snacks</td>\n",
       "      <td>1.0</td>\n",
       "    </tr>\n",
       "    <tr>\n",
       "      <th>3</th>\n",
       "      <td>11192</td>\n",
       "      <td>Ambur Star Dum Burger</td>\n",
       "      <td>Yes</td>\n",
       "      <td>No</td>\n",
       "      <td>Chelsea</td>\n",
       "      <td>3.4/5</td>\n",
       "      <td>17.0</td>\n",
       "      <td>7200110202\\r,  9840017416</td>\n",
       "      <td>Quick Bites</td>\n",
       "      <td>Dine-out</td>\n",
       "      <td>1.0</td>\n",
       "      <td>1.0</td>\n",
       "      <td>Italian</td>\n",
       "      <td>0.0</td>\n",
       "    </tr>\n",
       "    <tr>\n",
       "      <th>4</th>\n",
       "      <td>21324</td>\n",
       "      <td>Dadi's Dum Burger</td>\n",
       "      <td>Yes</td>\n",
       "      <td>Yes</td>\n",
       "      <td>Lower Manhattan</td>\n",
       "      <td>4.1 /5</td>\n",
       "      <td>2727.0</td>\n",
       "      <td>7090999991,  7090599999</td>\n",
       "      <td>Casual Dining</td>\n",
       "      <td>Dine-out</td>\n",
       "      <td>7.0</td>\n",
       "      <td>3.0</td>\n",
       "      <td>Italian</td>\n",
       "      <td>1.0</td>\n",
       "    </tr>\n",
       "  </tbody>\n",
       "</table>\n",
       "</div>"
      ],
      "text/plain": [
       "      id                   name table_bookings online_ordering  \\\n",
       "0  19340                 Plan B             No              No   \n",
       "1  31103                  Hunan             No             Yes   \n",
       "2  17563                Lavonne             No              No   \n",
       "3  11192  Ambur Star Dum Burger            Yes              No   \n",
       "4  21324      Dadi's Dum Burger            Yes             Yes   \n",
       "\n",
       "          location  rating   votes                       phone  \\\n",
       "0        Greenwich   4.2/5  1651.0                  8041609100   \n",
       "1          Tribeca  4.3 /5  2248.0                080 25520154   \n",
       "2        Greenwich   4.4/5  1095.0                  9740954505   \n",
       "3          Chelsea   3.4/5    17.0   7200110202\\r,  9840017416   \n",
       "4  Lower Manhattan  4.1 /5  2727.0     7090999991,  7090599999   \n",
       "\n",
       "  restaurant_type restaurant_operation  popular_dishes  cuisines_offered  \\\n",
       "0   Casual Dining        Pubs and bars             7.0               4.0   \n",
       "1   Casual Dining             Dine-out             7.0               3.0   \n",
       "2            Cafe                Cafes             7.0               2.0   \n",
       "3     Quick Bites             Dine-out             1.0               1.0   \n",
       "4   Casual Dining             Dine-out             7.0               3.0   \n",
       "\n",
       "  primary_cuisine  dining_cost  \n",
       "0        American          1.0  \n",
       "1         Chinese          1.0  \n",
       "2          Snacks          1.0  \n",
       "3         Italian          0.0  \n",
       "4         Italian          1.0  "
      ]
     },
     "execution_count": 3,
     "metadata": {},
     "output_type": "execute_result"
    }
   ],
   "source": [
    "data.head()"
   ]
  },
  {
   "cell_type": "code",
   "execution_count": 4,
   "metadata": {
    "colab": {},
    "colab_type": "code",
    "id": "0mhMZRlBIKRu",
    "outputId": "0a669059-5528-4ec0-d64b-8231f6aadf45"
   },
   "outputs": [
    {
     "data": {
      "text/plain": [
       "Index(['id', 'name', 'table_bookings', 'online_ordering', 'location', 'rating',\n",
       "       'votes', 'phone', 'restaurant_type', 'restaurant_operation',\n",
       "       'popular_dishes', 'cuisines_offered', 'primary_cuisine', 'dining_cost'],\n",
       "      dtype='object')"
      ]
     },
     "execution_count": 4,
     "metadata": {},
     "output_type": "execute_result"
    }
   ],
   "source": [
    "#Explore columns\n",
    "data.columns"
   ]
  },
  {
   "cell_type": "code",
   "execution_count": 5,
   "metadata": {
    "colab": {},
    "colab_type": "code",
    "id": "-SrTmyfJIKR1",
    "outputId": "12b270ca-8c3f-402b-d6c1-286c17e63fdd"
   },
   "outputs": [
    {
     "data": {
      "text/html": [
       "<div>\n",
       "<style scoped>\n",
       "    .dataframe tbody tr th:only-of-type {\n",
       "        vertical-align: middle;\n",
       "    }\n",
       "\n",
       "    .dataframe tbody tr th {\n",
       "        vertical-align: top;\n",
       "    }\n",
       "\n",
       "    .dataframe thead th {\n",
       "        text-align: right;\n",
       "    }\n",
       "</style>\n",
       "<table border=\"1\" class=\"dataframe\">\n",
       "  <thead>\n",
       "    <tr style=\"text-align: right;\">\n",
       "      <th></th>\n",
       "      <th>id</th>\n",
       "      <th>votes</th>\n",
       "      <th>popular_dishes</th>\n",
       "      <th>cuisines_offered</th>\n",
       "      <th>dining_cost</th>\n",
       "    </tr>\n",
       "  </thead>\n",
       "  <tbody>\n",
       "    <tr>\n",
       "      <th>count</th>\n",
       "      <td>2435.000000</td>\n",
       "      <td>2391.000000</td>\n",
       "      <td>2316.000000</td>\n",
       "      <td>2413.00000</td>\n",
       "      <td>2435.000000</td>\n",
       "    </tr>\n",
       "    <tr>\n",
       "      <th>mean</th>\n",
       "      <td>24562.075975</td>\n",
       "      <td>486.398996</td>\n",
       "      <td>3.569948</td>\n",
       "      <td>2.58765</td>\n",
       "      <td>0.520329</td>\n",
       "    </tr>\n",
       "    <tr>\n",
       "      <th>std</th>\n",
       "      <td>14043.041772</td>\n",
       "      <td>1294.380994</td>\n",
       "      <td>2.816004</td>\n",
       "      <td>1.29975</td>\n",
       "      <td>0.499689</td>\n",
       "    </tr>\n",
       "    <tr>\n",
       "      <th>min</th>\n",
       "      <td>53.000000</td>\n",
       "      <td>0.000000</td>\n",
       "      <td>1.000000</td>\n",
       "      <td>1.00000</td>\n",
       "      <td>0.000000</td>\n",
       "    </tr>\n",
       "    <tr>\n",
       "      <th>25%</th>\n",
       "      <td>11191.000000</td>\n",
       "      <td>9.500000</td>\n",
       "      <td>1.000000</td>\n",
       "      <td>2.00000</td>\n",
       "      <td>0.000000</td>\n",
       "    </tr>\n",
       "    <tr>\n",
       "      <th>50%</th>\n",
       "      <td>22754.000000</td>\n",
       "      <td>66.000000</td>\n",
       "      <td>1.500000</td>\n",
       "      <td>2.00000</td>\n",
       "      <td>1.000000</td>\n",
       "    </tr>\n",
       "    <tr>\n",
       "      <th>75%</th>\n",
       "      <td>34879.000000</td>\n",
       "      <td>383.000000</td>\n",
       "      <td>7.000000</td>\n",
       "      <td>3.00000</td>\n",
       "      <td>1.000000</td>\n",
       "    </tr>\n",
       "    <tr>\n",
       "      <th>max</th>\n",
       "      <td>51708.000000</td>\n",
       "      <td>14723.000000</td>\n",
       "      <td>7.000000</td>\n",
       "      <td>8.00000</td>\n",
       "      <td>1.000000</td>\n",
       "    </tr>\n",
       "  </tbody>\n",
       "</table>\n",
       "</div>"
      ],
      "text/plain": [
       "                 id         votes  popular_dishes  cuisines_offered  \\\n",
       "count   2435.000000   2391.000000     2316.000000        2413.00000   \n",
       "mean   24562.075975    486.398996        3.569948           2.58765   \n",
       "std    14043.041772   1294.380994        2.816004           1.29975   \n",
       "min       53.000000      0.000000        1.000000           1.00000   \n",
       "25%    11191.000000      9.500000        1.000000           2.00000   \n",
       "50%    22754.000000     66.000000        1.500000           2.00000   \n",
       "75%    34879.000000    383.000000        7.000000           3.00000   \n",
       "max    51708.000000  14723.000000        7.000000           8.00000   \n",
       "\n",
       "       dining_cost  \n",
       "count  2435.000000  \n",
       "mean      0.520329  \n",
       "std       0.499689  \n",
       "min       0.000000  \n",
       "25%       0.000000  \n",
       "50%       1.000000  \n",
       "75%       1.000000  \n",
       "max       1.000000  "
      ]
     },
     "execution_count": 5,
     "metadata": {},
     "output_type": "execute_result"
    }
   ],
   "source": [
    "#Description\n",
    "data.describe()"
   ]
  },
  {
   "cell_type": "code",
   "execution_count": 6,
   "metadata": {
    "colab": {},
    "colab_type": "code",
    "id": "Vel-7S7gIKR9"
   },
   "outputs": [
    {
     "data": {
      "text/plain": [
       "id                      0.000000\n",
       "name                    0.000000\n",
       "table_bookings          0.000000\n",
       "online_ordering         0.000000\n",
       "location                0.000000\n",
       "rating                  0.144148\n",
       "votes                   0.018070\n",
       "phone                   0.013963\n",
       "restaurant_type         0.045996\n",
       "restaurant_operation    0.008214\n",
       "popular_dishes          0.048871\n",
       "cuisines_offered        0.009035\n",
       "primary_cuisine         0.006982\n",
       "dining_cost             0.000000\n",
       "dtype: float64"
      ]
     },
     "execution_count": 6,
     "metadata": {},
     "output_type": "execute_result"
    }
   ],
   "source": [
    "data.isna().mean()"
   ]
  },
  {
   "cell_type": "code",
   "execution_count": 7,
   "metadata": {},
   "outputs": [],
   "source": [
    "\"\"\"\n",
    "Droping name and phone as it does not make any contribution in modelling.\n",
    "\"\"\"\n",
    "data.drop([ 'name', 'phone'], axis = 1, inplace = True)"
   ]
  },
  {
   "cell_type": "code",
   "execution_count": 8,
   "metadata": {
    "colab": {},
    "colab_type": "code",
    "id": "px5KNTQ7IKSK",
    "scrolled": true
   },
   "outputs": [],
   "source": [
    "\"\"\"\n",
    "Replacing Yes and No with the integers\n",
    "\"\"\"\n",
    "replace_map = {\n",
    "    \"table_bookings\": {\n",
    "        \"Yes\": 1,\n",
    "        \"No\": 0\n",
    "    },\n",
    "    \"online_ordering\": {\n",
    "        \"Yes\": 1,\n",
    "        \"No\": 0\n",
    "    },\n",
    "    \"rating\":{\n",
    "        \"NEW\": np.nan,\n",
    "        \"-\": np.nan\n",
    "    }\n",
    "}\n",
    "data.replace(replace_map, inplace = True)"
   ]
  },
  {
   "cell_type": "code",
   "execution_count": 9,
   "metadata": {
    "colab": {},
    "colab_type": "code",
    "id": "W9B6xKGpIKSQ"
   },
   "outputs": [],
   "source": [
    "\"\"\"\n",
    "Converting ratings to integers\n",
    "\"\"\"\n",
    "data['rating'] = data['rating'].apply(lambda x:float(x.split('/')[0].strip()) if not pd.isna(x) else x)"
   ]
  },
  {
   "cell_type": "code",
   "execution_count": 10,
   "metadata": {},
   "outputs": [],
   "source": [
    "\"\"\"\n",
    "Imputing missing values by replacing them with median for each region.\n",
    "\"\"\"\n",
    "\n",
    "data['primary_cuisine'] = data['primary_cuisine'].fillna(data['primary_cuisine'].mode()[0])\n",
    "data['rating'] = data.groupby(['primary_cuisine'])['rating'].transform(lambda x: x.fillna(x.median()))\n",
    "data['votes'] = data.groupby(['primary_cuisine'])['votes'].transform(lambda x: x.fillna(x.median()))\n",
    "data['popular_dishes'] = data.groupby(['primary_cuisine'])['popular_dishes'].transform(lambda x: x.fillna(x.median()))\n",
    "data['cuisines_offered'] = data.groupby(['primary_cuisine'])['cuisines_offered'].transform(lambda x: x.fillna(x.median()))\n",
    "\n",
    "data['restaurant_type'] = data.groupby(['primary_cuisine'])['restaurant_type'].transform(lambda x: x.fillna(x.mode()[0]))\n",
    "data['restaurant_operation'] = data.groupby(['primary_cuisine'])['restaurant_operation'].transform(lambda x: x.fillna(x.mode()[0]))"
   ]
  },
  {
   "cell_type": "code",
   "execution_count": 11,
   "metadata": {},
   "outputs": [
    {
     "data": {
      "text/html": [
       "<div>\n",
       "<style scoped>\n",
       "    .dataframe tbody tr th:only-of-type {\n",
       "        vertical-align: middle;\n",
       "    }\n",
       "\n",
       "    .dataframe tbody tr th {\n",
       "        vertical-align: top;\n",
       "    }\n",
       "\n",
       "    .dataframe thead th {\n",
       "        text-align: right;\n",
       "    }\n",
       "</style>\n",
       "<table border=\"1\" class=\"dataframe\">\n",
       "  <thead>\n",
       "    <tr style=\"text-align: right;\">\n",
       "      <th></th>\n",
       "      <th>id</th>\n",
       "      <th>table_bookings</th>\n",
       "      <th>online_ordering</th>\n",
       "      <th>location</th>\n",
       "      <th>rating</th>\n",
       "      <th>votes</th>\n",
       "      <th>restaurant_type</th>\n",
       "      <th>restaurant_operation</th>\n",
       "      <th>popular_dishes</th>\n",
       "      <th>cuisines_offered</th>\n",
       "      <th>primary_cuisine</th>\n",
       "      <th>dining_cost</th>\n",
       "    </tr>\n",
       "  </thead>\n",
       "  <tbody>\n",
       "    <tr>\n",
       "      <th>0</th>\n",
       "      <td>19340</td>\n",
       "      <td>0</td>\n",
       "      <td>0</td>\n",
       "      <td>Greenwich</td>\n",
       "      <td>4.2</td>\n",
       "      <td>1651.0</td>\n",
       "      <td>Casual Dining</td>\n",
       "      <td>Pubs and bars</td>\n",
       "      <td>7.0</td>\n",
       "      <td>4.0</td>\n",
       "      <td>American</td>\n",
       "      <td>1.0</td>\n",
       "    </tr>\n",
       "    <tr>\n",
       "      <th>1</th>\n",
       "      <td>31103</td>\n",
       "      <td>0</td>\n",
       "      <td>1</td>\n",
       "      <td>Tribeca</td>\n",
       "      <td>4.3</td>\n",
       "      <td>2248.0</td>\n",
       "      <td>Casual Dining</td>\n",
       "      <td>Dine-out</td>\n",
       "      <td>7.0</td>\n",
       "      <td>3.0</td>\n",
       "      <td>Chinese</td>\n",
       "      <td>1.0</td>\n",
       "    </tr>\n",
       "  </tbody>\n",
       "</table>\n",
       "</div>"
      ],
      "text/plain": [
       "      id  table_bookings  online_ordering   location  rating   votes  \\\n",
       "0  19340               0                0  Greenwich     4.2  1651.0   \n",
       "1  31103               0                1    Tribeca     4.3  2248.0   \n",
       "\n",
       "  restaurant_type restaurant_operation  popular_dishes  cuisines_offered  \\\n",
       "0   Casual Dining        Pubs and bars             7.0               4.0   \n",
       "1   Casual Dining             Dine-out             7.0               3.0   \n",
       "\n",
       "  primary_cuisine  dining_cost  \n",
       "0        American          1.0  \n",
       "1         Chinese          1.0  "
      ]
     },
     "execution_count": 11,
     "metadata": {},
     "output_type": "execute_result"
    }
   ],
   "source": [
    "data.head(2)"
   ]
  },
  {
   "cell_type": "markdown",
   "metadata": {},
   "source": [
    "## Visualization, Modeling, Machine Learning\n",
    "\n",
    "Can you build a model that can categorizes restaurants into 'Budget' and 'Expensive' and identify how different features influence the decision? Please explain your findings effectively to technical and non-technical audiences using comments and visualizations, if appropriate.\n",
    "- **Build an optimized model that effectively solves the business problem.**\n",
    "- **The model would be evaluated on the basis of Accuracy.**\n",
    "- **Read the test.csv file and prepare features for testing.**"
   ]
  },
  {
   "cell_type": "code",
   "execution_count": 12,
   "metadata": {},
   "outputs": [
    {
     "data": {
      "text/html": [
       "<div>\n",
       "<style scoped>\n",
       "    .dataframe tbody tr th:only-of-type {\n",
       "        vertical-align: middle;\n",
       "    }\n",
       "\n",
       "    .dataframe tbody tr th {\n",
       "        vertical-align: top;\n",
       "    }\n",
       "\n",
       "    .dataframe thead th {\n",
       "        text-align: right;\n",
       "    }\n",
       "</style>\n",
       "<table border=\"1\" class=\"dataframe\">\n",
       "  <thead>\n",
       "    <tr style=\"text-align: right;\">\n",
       "      <th></th>\n",
       "      <th>id</th>\n",
       "      <th>name</th>\n",
       "      <th>table_bookings</th>\n",
       "      <th>online_ordering</th>\n",
       "      <th>location</th>\n",
       "      <th>rating</th>\n",
       "      <th>votes</th>\n",
       "      <th>phone</th>\n",
       "      <th>restaurant_type</th>\n",
       "      <th>restaurant_operation</th>\n",
       "      <th>popular_dishes</th>\n",
       "      <th>cuisines_offered</th>\n",
       "      <th>primary_cuisine</th>\n",
       "    </tr>\n",
       "  </thead>\n",
       "  <tbody>\n",
       "    <tr>\n",
       "      <th>0</th>\n",
       "      <td>19281</td>\n",
       "      <td>Plan B</td>\n",
       "      <td>No</td>\n",
       "      <td>No</td>\n",
       "      <td>Greenwich</td>\n",
       "      <td>4.2/5</td>\n",
       "      <td>1651.0</td>\n",
       "      <td>8041609100</td>\n",
       "      <td>Casual Dining</td>\n",
       "      <td>Drinks &amp; nightlife</td>\n",
       "      <td>7.0</td>\n",
       "      <td>4.0</td>\n",
       "      <td>American</td>\n",
       "    </tr>\n",
       "    <tr>\n",
       "      <th>1</th>\n",
       "      <td>16095</td>\n",
       "      <td>Mom's Kitchen</td>\n",
       "      <td>No</td>\n",
       "      <td>No</td>\n",
       "      <td>East Village</td>\n",
       "      <td>NaN</td>\n",
       "      <td>0.0</td>\n",
       "      <td>9738732072,  9742716121</td>\n",
       "      <td>Delivery</td>\n",
       "      <td>Delivery</td>\n",
       "      <td>1.0</td>\n",
       "      <td>1.0</td>\n",
       "      <td>American</td>\n",
       "    </tr>\n",
       "    <tr>\n",
       "      <th>2</th>\n",
       "      <td>42040</td>\n",
       "      <td>Keys Cafe - Keys Hotel</td>\n",
       "      <td>No</td>\n",
       "      <td>No</td>\n",
       "      <td>Chinatown</td>\n",
       "      <td>2.8 /5</td>\n",
       "      <td>161.0</td>\n",
       "      <td>080 39451000\\n 8884038484</td>\n",
       "      <td>Casual Dining</td>\n",
       "      <td>Dine-out</td>\n",
       "      <td>7.0</td>\n",
       "      <td>3.0</td>\n",
       "      <td>Chinese</td>\n",
       "    </tr>\n",
       "    <tr>\n",
       "      <th>3</th>\n",
       "      <td>18753</td>\n",
       "      <td>Smally's Resto Cafe</td>\n",
       "      <td>Yes</td>\n",
       "      <td>No</td>\n",
       "      <td>Greenwich</td>\n",
       "      <td>4.0/5</td>\n",
       "      <td>401.0</td>\n",
       "      <td>080 48149349,  9632015858</td>\n",
       "      <td>Cafe</td>\n",
       "      <td>Dine-out</td>\n",
       "      <td>7.0</td>\n",
       "      <td>5.0</td>\n",
       "      <td>Snacks</td>\n",
       "    </tr>\n",
       "    <tr>\n",
       "      <th>4</th>\n",
       "      <td>21065</td>\n",
       "      <td>Fabcafe</td>\n",
       "      <td>No</td>\n",
       "      <td>Yes</td>\n",
       "      <td>Chelsea</td>\n",
       "      <td>3.8 /5</td>\n",
       "      <td>11.0</td>\n",
       "      <td>8050403072</td>\n",
       "      <td>Cafe</td>\n",
       "      <td>Dine-out</td>\n",
       "      <td>1.0</td>\n",
       "      <td>2.0</td>\n",
       "      <td>Snacks</td>\n",
       "    </tr>\n",
       "  </tbody>\n",
       "</table>\n",
       "</div>"
      ],
      "text/plain": [
       "      id                    name table_bookings online_ordering      location  \\\n",
       "0  19281                  Plan B             No              No     Greenwich   \n",
       "1  16095           Mom's Kitchen             No              No  East Village   \n",
       "2  42040  Keys Cafe - Keys Hotel             No              No     Chinatown   \n",
       "3  18753     Smally's Resto Cafe            Yes              No     Greenwich   \n",
       "4  21065                 Fabcafe             No             Yes       Chelsea   \n",
       "\n",
       "   rating   votes                      phone restaurant_type  \\\n",
       "0   4.2/5  1651.0                 8041609100   Casual Dining   \n",
       "1     NaN     0.0    9738732072,  9742716121        Delivery   \n",
       "2  2.8 /5   161.0  080 39451000\\n 8884038484   Casual Dining   \n",
       "3   4.0/5   401.0  080 48149349,  9632015858            Cafe   \n",
       "4  3.8 /5    11.0                 8050403072            Cafe   \n",
       "\n",
       "  restaurant_operation  popular_dishes  cuisines_offered primary_cuisine  \n",
       "0   Drinks & nightlife             7.0               4.0        American  \n",
       "1             Delivery             1.0               1.0        American  \n",
       "2             Dine-out             7.0               3.0         Chinese  \n",
       "3             Dine-out             7.0               5.0          Snacks  \n",
       "4             Dine-out             1.0               2.0          Snacks  "
      ]
     },
     "execution_count": 12,
     "metadata": {},
     "output_type": "execute_result"
    }
   ],
   "source": [
    "#Loading Test data\n",
    "test_data=pd.read_csv('test.csv')\n",
    "test_data.head()"
   ]
  },
  {
   "cell_type": "code",
   "execution_count": 13,
   "metadata": {},
   "outputs": [],
   "source": [
    "\"\"\"\n",
    "Pre-processing test data\n",
    "\"\"\"\n",
    "test_id = test_data['id']\n",
    "test_data.drop(['id' ,'name', 'phone'], axis = 1, inplace = True)\n",
    "test_data.replace(replace_map, inplace = True)\n",
    "\n",
    "test_data['rating'] = test_data['rating'].apply(lambda x:float(x.split('/')[0].strip()) if not pd.isna(x) else x)\n",
    "test_data['restaurant_type'] = test_data['restaurant_type'].apply(lambda x:x.split(',')[0] if not pd.isna(x) else x)\n",
    "\n",
    "\n",
    "test_data['primary_cuisine'] = test_data['primary_cuisine'].fillna(data['primary_cuisine'].mode()[0])\n",
    "test_data['rating'] = test_data['rating'].fillna(data['rating'].median())\n",
    "test_data['votes'] = test_data['votes'].fillna(data['votes'].median())\n",
    "test_data['popular_dishes'] = test_data['popular_dishes'].fillna(data['popular_dishes'].median())\n",
    "test_data['cuisines_offered'] = test_data['cuisines_offered'].fillna(data['cuisines_offered'].median())\n",
    "\n",
    "test_data['restaurant_type'] = test_data['restaurant_type'].fillna(data['restaurant_type'].mode()[0])\n",
    "test_data['restaurant_operation'] = test_data['restaurant_operation'].fillna(data['restaurant_operation'].mode()[0])"
   ]
  },
  {
   "cell_type": "code",
   "execution_count": 14,
   "metadata": {},
   "outputs": [
    {
     "data": {
      "image/png": "[encoded data removed]",
      "text/plain": [
       "<Figure size 432x288 with 1 Axes>"
      ]
     },
     "metadata": {
      "needs_background": "light"
     },
     "output_type": "display_data"
    },
    {
     "data": {
      "image/png": "[encoded data removed]",
      "text/plain": [
       "<Figure size 432x288 with 1 Axes>"
      ]
     },
     "metadata": {},
     "output_type": "display_data"
    },
    {
     "data": {
      "image/png": "[encoded data removed]",
      "text/plain": [
       "<Figure size 432x288 with 1 Axes>"
      ]
     },
     "metadata": {
      "needs_background": "light"
     },
     "output_type": "display_data"
    },
    {
     "data": {
      "image/png": "[encoded data removed]",
      "text/plain": [
       "<Figure size 432x288 with 1 Axes>"
      ]
     },
     "metadata": {},
     "output_type": "display_data"
    }
   ],
   "source": [
    "\"\"\"\n",
    "Analyzing table_bookings and online_ordering features of the restaurants.\n",
    "\n",
    "\"\"\"\n",
    "\n",
    "data.groupby(['table_bookings'])['id'].count().plot(kind='bar',  \n",
    "  ylim=0, title= 'Restaurants accepting table bookings')\n",
    "plt.ylabel('Number of restaurants', fontsize = 10);\n",
    "plt.show()\n",
    "\n",
    "data.groupby(['table_bookings'])['id'].count().plot(kind='pie',  \n",
    "  ylim=0, title= 'Restaurants accepting table bookings')\n",
    "plt.ylabel('Number of restaurants', fontsize = 10);\n",
    "plt.show()\n",
    "\n",
    "data.groupby(['online_ordering'])['id'].count().plot(kind='bar',  \n",
    "  ylim=0, title= 'Restaurants accepting online ordering')\n",
    "plt.ylabel('Number of restaurants', fontsize = 10);\n",
    "plt.show()\n",
    "\n",
    "data.groupby(['online_ordering'])['id'].count().plot(kind='pie',  \n",
    "  ylim=0, title= 'Restaurants accepting online ordering')\n",
    "plt.ylabel('Number of restaurants', fontsize = 10);\n",
    "plt.show()"
   ]
  },
  {
   "cell_type": "markdown",
   "metadata": {},
   "source": [
    "Inferences\n",
    "\n",
    "1. Almost 60 percent of the restaurants provide table booking facility.\n",
    "2. Almost 20 percent of the restaurants provide online ordering facility."
   ]
  },
  {
   "cell_type": "code",
   "execution_count": 15,
   "metadata": {},
   "outputs": [
    {
     "data": {
      "text/plain": [
       "<matplotlib.axes._subplots.AxesSubplot at 0x1a22313898>"
      ]
     },
     "execution_count": 15,
     "metadata": {},
     "output_type": "execute_result"
    },
    {
     "data": {
      "image/png": "[encoded data removed]",
      "text/plain": [
       "<Figure size 432x360 with 1 Axes>"
      ]
     },
     "metadata": {
      "needs_background": "light"
     },
     "output_type": "display_data"
    }
   ],
   "source": [
    "\"\"\"\n",
    "Analyzing ratings.\n",
    "\"\"\"\n",
    "\n",
    "plt.figure(figsize=(6,5))\n",
    "rating=data['rating']\n",
    "sns.distplot(rating,bins=20)"
   ]
  },
  {
   "cell_type": "markdown",
   "metadata": {},
   "source": [
    "Inferences\n",
    "\n",
    "1. More than 60% of the restaurants have rating between 3 and 4.2. \n",
    "2. Restaurants having rating more than 4.5 are rare."
   ]
  },
  {
   "cell_type": "code",
   "execution_count": 16,
   "metadata": {},
   "outputs": [
    {
     "data": {
      "image/png": "[encoded data removed]",
      "text/plain": [
       "<Figure size 432x288 with 1 Axes>"
      ]
     },
     "metadata": {
      "needs_background": "light"
     },
     "output_type": "display_data"
    }
   ],
   "source": [
    "\"\"\"\n",
    "Distribution of rating wrt to dining costs.\n",
    "\"\"\"\n",
    "\n",
    "total = data['rating'].tolist()\n",
    "expensive_r = data[data['dining_cost'] == 1]['rating'].tolist()\n",
    "budget_r = data[data['dining_cost'] == 0]['rating'].tolist()\n",
    "labels = [\"Total\", \"Expensive\", \"Budget\"]\n",
    "plt.boxplot([total, expensive_r, budget_r])\n",
    "plt.xticks(list(range(1,len(labels)+1)), labels)\n",
    "plt.show()"
   ]
  },
  {
   "cell_type": "markdown",
   "metadata": {},
   "source": [
    "Inferences\n",
    "\n",
    "1. Expensive restaurants have higher median rating than budget ones.\n",
    "2. Expensive restaurants have higher lower outliers as compared to the budget ones."
   ]
  },
  {
   "cell_type": "code",
   "execution_count": 17,
   "metadata": {},
   "outputs": [
    {
     "data": {
      "image/png": "[encoded data removed]",
      "text/plain": [
       "<Figure size 432x288 with 1 Axes>"
      ]
     },
     "metadata": {
      "needs_background": "light"
     },
     "output_type": "display_data"
    },
    {
     "data": {
      "image/png": "[encoded data removed]",
      "text/plain": [
       "<Figure size 432x288 with 1 Axes>"
      ]
     },
     "metadata": {
      "needs_background": "light"
     },
     "output_type": "display_data"
    }
   ],
   "source": [
    "\"\"\"\n",
    "How does facilities like online ordering and table booking \n",
    "effects ratings earned by the restaurants. \n",
    "\"\"\"\n",
    "\n",
    "total = data['rating'].tolist()\n",
    "expensive_r = data[data['online_ordering'] == 1]['rating'].tolist()\n",
    "budget_r = data[data['online_ordering'] == 0]['rating'].tolist()\n",
    "labels = [\"Total\", \"Accepts online order\", \"Does not accept\"]\n",
    "plt.boxplot([total, expensive_r, budget_r], sym = '')\n",
    "plt.xticks(list(range(1,len(labels)+1)), labels)\n",
    "plt.title(\"Online Ordering\")\n",
    "plt.ylabel(\"Rating\")\n",
    "plt.show()\n",
    "\n",
    "plt.clf()\n",
    "total = data['rating'].tolist()\n",
    "expensive_r = data[data['table_bookings'] == 1]['rating'].tolist()\n",
    "budget_r = data[data['table_bookings'] == 0]['rating'].tolist()\n",
    "labels = [\"Total\", \"Accepts table bookings\", \"Does not accept\"]\n",
    "plt.boxplot([total, expensive_r, budget_r], sym ='')\n",
    "plt.xticks(list(range(1,len(labels)+1)), labels)\n",
    "plt.title(\"Table Bookings\")\n",
    "plt.ylabel(\"Rating\")\n",
    "plt.show()"
   ]
  },
  {
   "cell_type": "markdown",
   "metadata": {},
   "source": [
    "Inferences \n",
    "\n",
    "1. Restaurants offering online ordering has higher median rating while the facilities like table bookings slightly influence median ratings. "
   ]
  },
  {
   "cell_type": "code",
   "execution_count": 18,
   "metadata": {},
   "outputs": [
    {
     "data": {
      "image/png": "[encoded data removed]",
      "text/plain": [
       "<Figure size 432x288 with 1 Axes>"
      ]
     },
     "metadata": {
      "needs_background": "light"
     },
     "output_type": "display_data"
    }
   ],
   "source": [
    "\"\"\"\n",
    "Distribution of votes wrt to dining costs.\n",
    "\"\"\"\n",
    "\n",
    "total = data['votes'].tolist()\n",
    "expensive_r = data[data['dining_cost'] == 1]['votes'].tolist()\n",
    "budget_r = data[data['dining_cost'] == 0]['votes'].tolist()\n",
    "labels = [\"Total\", \"Expensive\", \"Budget\"]\n",
    "plt.boxplot([total, expensive_r, budget_r], sym = '')\n",
    "plt.xticks(list(range(1,len(labels)+1)), labels)\n",
    "plt.show()"
   ]
  },
  {
   "cell_type": "markdown",
   "metadata": {},
   "source": [
    "Inferences\n",
    "\n",
    "1. Expensive resturants gathers more votes than Budget ones. "
   ]
  },
  {
   "cell_type": "code",
   "execution_count": 19,
   "metadata": {},
   "outputs": [
    {
     "data": {
      "image/png": "[encoded data removed]",
      "text/plain": [
       "<Figure size 432x288 with 1 Axes>"
      ]
     },
     "metadata": {
      "needs_background": "light"
     },
     "output_type": "display_data"
    },
    {
     "data": {
      "image/png": "[encoded data removed]",
      "text/plain": [
       "<Figure size 432x288 with 1 Axes>"
      ]
     },
     "metadata": {
      "needs_background": "light"
     },
     "output_type": "display_data"
    }
   ],
   "source": [
    "\"\"\"\n",
    "How does facilities like online ordering and table booking \n",
    "effects votes earned by the restaurants. \n",
    "\"\"\"\n",
    "\n",
    "total = data['votes'].tolist()\n",
    "expensive_r = data[data['online_ordering'] == 1]['votes'].tolist()\n",
    "budget_r = data[data['online_ordering'] == 0]['votes'].tolist()\n",
    "labels = [\"Total\", \"Accepts online order\", \"Does not accept\"]\n",
    "plt.boxplot([total, expensive_r, budget_r], sym = '')\n",
    "plt.xticks(list(range(1,len(labels)+1)), labels)\n",
    "plt.title(\"Online Ordering\")\n",
    "plt.ylabel(\"Votes\")\n",
    "plt.show()\n",
    "\n",
    "\n",
    "plt.clf()\n",
    "total = data['votes'].tolist()\n",
    "expensive_r = data[data['table_bookings'] == 1]['votes'].tolist()\n",
    "budget_r = data[data['table_bookings'] == 0]['votes'].tolist()\n",
    "labels = [\"Total\", \"Accepts table bookings\", \"Does not accept\"]\n",
    "plt.boxplot([total, expensive_r, budget_r], sym ='')\n",
    "plt.xticks(list(range(1,len(labels)+1)), labels)\n",
    "plt.title(\"Table Bookings\")\n",
    "plt.ylabel(\"Votes\")\n",
    "plt.show()"
   ]
  },
  {
   "cell_type": "markdown",
   "metadata": {},
   "source": [
    "Inference\n",
    "\n",
    "1.  Restaurants accepting online orders and table bookings has higher median votes than those with no online order or table booking facility."
   ]
  },
  {
   "cell_type": "code",
   "execution_count": 20,
   "metadata": {},
   "outputs": [
    {
     "data": {
      "image/png": "[encoded data removed]",
      "text/plain": [
       "<Figure size 576x432 with 1 Axes>"
      ]
     },
     "metadata": {
      "needs_background": "light"
     },
     "output_type": "display_data"
    },
    {
     "data": {
      "text/plain": [
       "<matplotlib.legend.Legend at 0x1a21dcbcc0>"
      ]
     },
     "execution_count": 20,
     "metadata": {},
     "output_type": "execute_result"
    },
    {
     "data": {
      "image/png": "[encoded data removed]",
      "text/plain": [
       "<Figure size 432x288 with 1 Axes>"
      ]
     },
     "metadata": {
      "needs_background": "light"
     },
     "output_type": "display_data"
    }
   ],
   "source": [
    "\"\"\"\n",
    "Exploring restaurant types.\n",
    "\"\"\"\n",
    "\n",
    "\n",
    "fig = plt.figure(figsize=(8,6))\n",
    "data.groupby('restaurant_type').id.count().sort_values().plot.barh(\n",
    "    ylim=0, title= 'Distribution of restaurants wrt type\\n')\n",
    "plt.xlabel('Number of restaurants', fontsize = 10);\n",
    "plt.show()\n",
    "\n",
    "plt.clf()\n",
    "y1 = data.groupby(['restaurant_type'])['dining_cost'].count().tolist()\n",
    "y2 = data.groupby(['restaurant_type'])['dining_cost'].sum().tolist()\n",
    "labels = data.groupby(['restaurant_type'])['dining_cost'].count().reset_index()['restaurant_type'].tolist()\n",
    "plt.bar(labels, y1, color = 'b', label = 'Total')\n",
    "plt.bar(labels, y2, color = 'g', label = 'Expensive')\n",
    "plt.xticks(rotation=90)\n",
    "plt.ylabel(\"Number of restaurants\")\n",
    "plt.legend(loc = 'upper left')"
   ]
  },
  {
   "cell_type": "markdown",
   "metadata": {},
   "source": [
    "Inferences\n",
    "\n",
    "1. Most restaurants follows Quick Bites and Casual Dining types.\n",
    "2. Most of the Quick Bites resturants are Budget while most of the Casual Dinings, Cafes and Bars are expensive. "
   ]
  },
  {
   "cell_type": "code",
   "execution_count": 21,
   "metadata": {},
   "outputs": [
    {
     "data": {
      "image/png": "[encoded data removed]",
      "text/plain": [
       "<Figure size 576x432 with 1 Axes>"
      ]
     },
     "metadata": {
      "needs_background": "light"
     },
     "output_type": "display_data"
    },
    {
     "data": {
      "text/plain": [
       "<matplotlib.legend.Legend at 0x1a21f233c8>"
      ]
     },
     "execution_count": 21,
     "metadata": {},
     "output_type": "execute_result"
    },
    {
     "data": {
      "image/png": "[encoded data removed]",
      "text/plain": [
       "<Figure size 432x288 with 1 Axes>"
      ]
     },
     "metadata": {
      "needs_background": "light"
     },
     "output_type": "display_data"
    }
   ],
   "source": [
    "\"\"\"\n",
    "Exploring locations with most restaurants.\n",
    "\"\"\"\n",
    "\n",
    "\n",
    "fig = plt.figure(figsize=(8,6))\n",
    "data.groupby('location').id.count().sort_values().plot.barh(\n",
    "    ylim=0, title= 'Distribution of restaurants wrt location\\n')\n",
    "plt.xlabel('Number of restaurants', fontsize = 10);\n",
    "plt.show()\n",
    "\n",
    "plt.clf()\n",
    "y1 = data.groupby(['location'])['dining_cost'].count().tolist()\n",
    "y2 = data.groupby(['location'])['dining_cost'].sum().tolist()\n",
    "labels = data.groupby(['location'])['dining_cost'].count().reset_index()['location'].tolist()\n",
    "plt.bar(labels, y1, color = 'b', label = 'Total')\n",
    "plt.bar(labels, y2, color = 'g', label = 'Expensive')\n",
    "plt.xticks(rotation=90)\n",
    "plt.ylabel(\"Number of restaurants\")\n",
    "plt.legend(loc = 'upper right')"
   ]
  },
  {
   "cell_type": "markdown",
   "metadata": {},
   "source": [
    "Inferences\n",
    "\n",
    "1. Lower Manhattan has most number of resturants followed by Staten and Ellis Islands.\n",
    "2. More than 50% of the restaurants in all the locations except Lower Manhattan are expensive. "
   ]
  },
  {
   "cell_type": "code",
   "execution_count": 22,
   "metadata": {
    "colab_type": "text",
    "id": "ymsdDaIPIKSX"
   },
   "outputs": [
    {
     "data": {
      "image/png": "[encoded data removed]",
      "text/plain": [
       "<Figure size 576x432 with 1 Axes>"
      ]
     },
     "metadata": {
      "needs_background": "light"
     },
     "output_type": "display_data"
    },
    {
     "data": {
      "text/plain": [
       "<matplotlib.legend.Legend at 0x1a21d28128>"
      ]
     },
     "execution_count": 22,
     "metadata": {},
     "output_type": "execute_result"
    },
    {
     "data": {
      "image/png": "[encoded data removed]",
      "text/plain": [
       "<Figure size 432x288 with 1 Axes>"
      ]
     },
     "metadata": {
      "needs_background": "light"
     },
     "output_type": "display_data"
    }
   ],
   "source": [
    "\"\"\"\n",
    "Exploring locations with most restaurants.\n",
    "\"\"\"\n",
    "\n",
    "\n",
    "fig = plt.figure(figsize=(8,6))\n",
    "data.groupby('primary_cuisine').id.count().sort_values().plot.barh(\n",
    "    ylim=0, title= 'Distribution of restaurants wrt primary_cuisine\\n')\n",
    "plt.xlabel('Number of restaurants', fontsize = 10)\n",
    "plt.show()\n",
    "\n",
    "plt.clf()\n",
    "y1 = data.groupby(['primary_cuisine'])['dining_cost'].count().tolist()\n",
    "y2 = data.groupby(['primary_cuisine'])['dining_cost'].sum().tolist()\n",
    "labels = data.groupby(['primary_cuisine'])['dining_cost'].count().reset_index()['primary_cuisine'].tolist()\n",
    "plt.bar(labels, y1, color = 'b', label = 'Total')\n",
    "plt.bar(labels, y2, color = 'g', label = 'Expensive')\n",
    "plt.xticks(rotation=90)\n",
    "plt.ylabel(\"Number of restaurants\")\n",
    "plt.legend(loc = 'upper right')"
   ]
  },
  {
   "cell_type": "markdown",
   "metadata": {},
   "source": [
    "Inferences\n",
    "\n",
    "1. American cuisine dominates followed by Mexican.\n",
    "2. More than 50% of restaurants serving American, Chineese and Snacks are expensive.\n",
    "3. Most of the Mexican resturants are Budget. "
   ]
  },
  {
   "cell_type": "code",
   "execution_count": 23,
   "metadata": {},
   "outputs": [
    {
     "data": {
      "image/png": "[encoded data removed]",
      "text/plain": [
       "<Figure size 576x432 with 1 Axes>"
      ]
     },
     "metadata": {
      "needs_background": "light"
     },
     "output_type": "display_data"
    },
    {
     "data": {
      "text/plain": [
       "<matplotlib.legend.Legend at 0x1a2155aa90>"
      ]
     },
     "execution_count": 23,
     "metadata": {},
     "output_type": "execute_result"
    },
    {
     "data": {
      "image/png": "[encoded data removed]",
      "text/plain": [
       "<Figure size 432x288 with 1 Axes>"
      ]
     },
     "metadata": {
      "needs_background": "light"
     },
     "output_type": "display_data"
    }
   ],
   "source": [
    "\"\"\"\n",
    "Exploring operations with most restaurants.\n",
    "\"\"\"\n",
    "\n",
    "\n",
    "fig = plt.figure(figsize=(8,6))\n",
    "data.groupby('restaurant_operation').id.count().sort_values().plot.barh(\n",
    "    ylim=0, title= 'Distribution of restaurants wrt restaurant_operation\\n')\n",
    "plt.xlabel('Number of restaurants', fontsize = 10)\n",
    "plt.show()\n",
    "\n",
    "plt.clf()\n",
    "y1 = data.groupby(['restaurant_operation'])['dining_cost'].count().tolist()\n",
    "y2 = data.groupby(['restaurant_operation'])['dining_cost'].sum().tolist()\n",
    "labels = data.groupby(['restaurant_operation'])['dining_cost'].count().reset_index()['restaurant_operation'].tolist()\n",
    "plt.bar(labels, y1, color = 'b', label = 'Total')\n",
    "plt.bar(labels, y2, color = 'g', label = 'Expensive')\n",
    "plt.xticks(rotation=90)\n",
    "plt.ylabel(\"Number of restaurants\")\n",
    "plt.legend(loc = 'upper right')"
   ]
  },
  {
   "cell_type": "markdown",
   "metadata": {},
   "source": [
    "Inferences\n",
    "\n",
    "1. Most popular restaurant operation is Delivery followed by Dine-out.\n",
    "2. Less than 50% of Delivery restaurants are expensive. "
   ]
  },
  {
   "cell_type": "code",
   "execution_count": 24,
   "metadata": {},
   "outputs": [
    {
     "data": {
      "image/png": "[encoded data removed]",
      "text/plain": [
       "<Figure size 432x288 with 1 Axes>"
      ]
     },
     "metadata": {
      "needs_background": "light"
     },
     "output_type": "display_data"
    },
    {
     "data": {
      "image/png": "[encoded data removed]",
      "text/plain": [
       "<Figure size 432x288 with 1 Axes>"
      ]
     },
     "metadata": {
      "needs_background": "light"
     },
     "output_type": "display_data"
    }
   ],
   "source": [
    "\"\"\"\n",
    "Variation of the number of popular dishes and cuisines offered across \n",
    "Expesnive and Budget Restaurants. \n",
    "\n",
    "\"\"\"\n",
    "\n",
    "total = data['popular_dishes'].tolist()\n",
    "expensive_r = data[data['dining_cost'] == 1]['popular_dishes'].tolist()\n",
    "budget_r = data[data['dining_cost'] == 0]['popular_dishes'].tolist()\n",
    "labels = [\"Total\", \"Expensive\", \"Budget\"]\n",
    "plt.boxplot([total, expensive_r, budget_r])\n",
    "plt.xticks(list(range(1,len(labels)+1)), labels)\n",
    "plt.ylabel(\"Number of Popular Dishes\")\n",
    "plt.show()\n",
    "\n",
    "total = data['cuisines_offered'].tolist()\n",
    "expensive_r = data[data['dining_cost'] == 1]['cuisines_offered'].tolist()\n",
    "budget_r = data[data['dining_cost'] == 0]['cuisines_offered'].tolist()\n",
    "labels = [\"Total\", \"Expensive\", \"Budget\"]\n",
    "plt.boxplot([total, expensive_r, budget_r])\n",
    "plt.xticks(list(range(1,len(labels)+1)), labels)\n",
    "plt.ylabel(\"Number of Cuisines Offered\")\n",
    "plt.show()"
   ]
  },
  {
   "cell_type": "markdown",
   "metadata": {},
   "source": [
    "Inferences\n",
    "\n",
    "1. Budget restaurants have less number of popular dishes as well as serves a limited cuisines."
   ]
  },
  {
   "cell_type": "code",
   "execution_count": 25,
   "metadata": {},
   "outputs": [],
   "source": [
    "data.drop('id', axis =1, inplace =True)"
   ]
  },
  {
   "cell_type": "code",
   "execution_count": 26,
   "metadata": {
    "colab": {},
    "colab_type": "code",
    "id": "1XiIoLYLIKSj"
   },
   "outputs": [],
   "source": [
    "\"\"\"\n",
    "One hot encoding\n",
    "\"\"\"\n",
    "\n",
    "one_hot = ['location', 'restaurant_type', 'restaurant_operation', 'primary_cuisine']\n",
    "data = pd.get_dummies(data, columns=one_hot)\n",
    "test_data = pd.get_dummies(test_data, columns=one_hot)"
   ]
  },
  {
   "cell_type": "code",
   "execution_count": 27,
   "metadata": {
    "colab": {},
    "colab_type": "code",
    "id": "7tBCHjd3IKSp"
   },
   "outputs": [],
   "source": [
    "X_train,X_valid,Y_train,Y_valid=train_test_split(\n",
    "    data.drop(['dining_cost'], axis = 1),\n",
    "    data[['dining_cost']],\n",
    "    train_size=0.8)"
   ]
  },
  {
   "cell_type": "code",
   "execution_count": 28,
   "metadata": {
    "colab": {},
    "colab_type": "code",
    "id": "1Vk1EEy9IKSv"
   },
   "outputs": [
    {
     "name": "stderr",
     "output_type": "stream",
     "text": [
      "/Users/divyanshjain/anaconda3/lib/python3.7/site-packages/sklearn/linear_model/logistic.py:432: FutureWarning: Default solver will be changed to 'lbfgs' in 0.22. Specify a solver to silence this warning.\n",
      "  FutureWarning)\n",
      "/Users/divyanshjain/anaconda3/lib/python3.7/site-packages/sklearn/utils/validation.py:724: DataConversionWarning: A column-vector y was passed when a 1d array was expected. Please change the shape of y to (n_samples, ), for example using ravel().\n",
      "  y = column_or_1d(y, warn=True)\n"
     ]
    },
    {
     "data": {
      "text/plain": [
       "0.9404517453798767"
      ]
     },
     "execution_count": 28,
     "metadata": {},
     "output_type": "execute_result"
    }
   ],
   "source": [
    "'''\n",
    "Model-I: Logistic Regression for binary classification\n",
    "'''\n",
    "model = LogisticRegression()\n",
    "clf = model.fit(X_train, Y_train)\n",
    "Y_pred = clf.predict(X_valid)\n",
    "accuracy_score(Y_valid,Y_pred)"
   ]
  },
  {
   "cell_type": "code",
   "execution_count": 29,
   "metadata": {
    "colab": {},
    "colab_type": "code",
    "id": "nkQU41WSIKSz"
   },
   "outputs": [
    {
     "name": "stderr",
     "output_type": "stream",
     "text": [
      "/Users/divyanshjain/anaconda3/lib/python3.7/site-packages/sklearn/preprocessing/label.py:219: DataConversionWarning: A column-vector y was passed when a 1d array was expected. Please change the shape of y to (n_samples, ), for example using ravel().\n",
      "  y = column_or_1d(y, warn=True)\n",
      "/Users/divyanshjain/anaconda3/lib/python3.7/site-packages/sklearn/preprocessing/label.py:252: DataConversionWarning: A column-vector y was passed when a 1d array was expected. Please change the shape of y to (n_samples, ), for example using ravel().\n",
      "  y = column_or_1d(y, warn=True)\n"
     ]
    },
    {
     "data": {
      "text/plain": [
       "0.946611909650924"
      ]
     },
     "execution_count": 29,
     "metadata": {},
     "output_type": "execute_result"
    }
   ],
   "source": [
    "'''\n",
    "Model-II: Using Xgboost for classification.\n",
    "'''\n",
    "model = XGBClassifier()\n",
    "model.fit(X_train, Y_train) \n",
    "\n",
    "Y_pred=model.predict(X_valid)\n",
    "accuracy_score(Y_valid,Y_pred)"
   ]
  },
  {
   "cell_type": "markdown",
   "metadata": {
    "colab_type": "text",
    "id": "MK_rdXETIKS4"
   },
   "source": [
    "\n",
    "\n",
    "**The management wants to know what are the most important features for your model.  Can you tell them?**\n",
    "\n",
    "> #### Task:\n",
    "- **Visualize the top 20 features and their feature importance.**\n"
   ]
  },
  {
   "cell_type": "code",
   "execution_count": 30,
   "metadata": {
    "colab": {},
    "colab_type": "code",
    "id": "HHFM3XPMIKS6"
   },
   "outputs": [
    {
     "data": {
      "image/png": "[encoded data removed]",
      "text/plain": [
       "<Figure size 720x576 with 1 Axes>"
      ]
     },
     "metadata": {
      "needs_background": "light"
     },
     "output_type": "display_data"
    }
   ],
   "source": [
    "feature_imp=pd.DataFrame()\n",
    "for feature,imp in zip(X_train.columns,model.feature_importances_):\n",
    "    temp=pd.DataFrame([feature,imp]).T\n",
    "    feature_imp=feature_imp.append(temp)\n",
    "feature_imp.columns=['feature','relative_importance']\n",
    "feature_imp.sort_values(by='relative_importance',inplace=True)\n",
    "feature_imp.set_index('feature',inplace=True)\n",
    "feature_imp.iloc[-20:,:].plot(kind='barh',figsize=(10,8))\n",
    "plt.show()"
   ]
  },
  {
   "cell_type": "markdown",
   "metadata": {
    "colab_type": "text",
    "id": "UFogmgYZIKTE"
   },
   "source": [
    "> #### Task:\n",
    "- **Submit the predictions on the test dataset using your optimized model** <br/>\n",
    "    For each record in the test set (`test.csv`), you must predict the value of the `dining_cost` variable. You should submit a CSV file with a header row and one row per test entry. The file (submissions.csv) should have exactly 2 columns:\n",
    "\n",
    "The file (`submissions.csv`) should have exactly 2 columns:\n",
    "   - **id**\n",
    "   - **dining_cost**"
   ]
  },
  {
   "cell_type": "code",
   "execution_count": 31,
   "metadata": {
    "colab": {},
    "colab_type": "code",
    "id": "7xgNg25MIKTG"
   },
   "outputs": [],
   "source": [
    "submission=model.predict(test_data)"
   ]
  },
  {
   "cell_type": "code",
   "execution_count": 32,
   "metadata": {
    "colab": {},
    "colab_type": "code",
    "id": "OaxN7BjwIKTL"
   },
   "outputs": [],
   "source": [
    "submission_df=pd.DataFrame(\n",
    "{\n",
    "    'id':test_id,\n",
    "    'dining_cost':submission\n",
    "})"
   ]
  },
  {
   "cell_type": "code",
   "execution_count": 33,
   "metadata": {
    "colab": {},
    "colab_type": "code",
    "id": "nBRVPrYbIKTQ"
   },
   "outputs": [],
   "source": [
    "#Submission\n",
    "submission_df.to_csv('submissions.csv',index=False)"
   ]
  },
  {
   "cell_type": "markdown",
   "metadata": {
    "colab_type": "text",
    "id": "H_pB8zTcIKTW"
   },
   "source": [
    "---"
   ]
  }
 ],
 "metadata": {
  "colab": {
   "collapsed_sections": [],
   "name": "Questions.ipynb",
   "provenance": [],
   "version": "0.3.2"
  },
  "kernelspec": {
   "display_name": "Python 3",
   "language": "python",
   "name": "python3"
  },
  "language_info": {
   "codemirror_mode": {
    "name": "ipython",
    "version": 3
   },
   "file_extension": ".py",
   "mimetype": "text/x-python",
   "name": "python",
   "nbconvert_exporter": "python",
   "pygments_lexer": "ipython3",
   "version": "3.7.3"
  },
  "toc": {
   "base_numbering": 1,
   "nav_menu": {},
   "number_sections": true,
   "sideBar": true,
   "skip_h1_title": false,
   "title_cell": "Table of Contents",
   "title_sidebar": "Contents",
   "toc_cell": false,
   "toc_position": {},
   "toc_section_display": true,
   "toc_window_display": false
  }
 },
 "nbformat": 4,
 "nbformat_minor": 1
}
